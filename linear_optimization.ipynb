{
  "nbformat": 4,
  "nbformat_minor": 0,
  "metadata": {
    "colab": {
      "name": "linear_optimization.ipynb",
      "provenance": [],
      "authorship_tag": "ABX9TyNikgvCjhyFtz4JJ0Wwuo0J",
      "include_colab_link": true
    },
    "kernelspec": {
      "name": "python3",
      "display_name": "Python 3"
    },
    "language_info": {
      "name": "python"
    }
  },
  "cells": [
    {
      "cell_type": "markdown",
      "metadata": {
        "id": "view-in-github",
        "colab_type": "text"
      },
      "source": [
        "<a href=\"https://colab.research.google.com/github/nethaji-achha/AI/blob/main/linear_optimization.ipynb\" target=\"_parent\"><img src=\"https://colab.research.google.com/assets/colab-badge.svg\" alt=\"Open In Colab\"/></a>"
      ]
    },
    {
      "cell_type": "code",
      "metadata": {
        "id": "qB9i5HMQeEUm",
        "colab": {
          "base_uri": "https://localhost:8080/"
        },
        "outputId": "464a26cf-0ceb-4201-e6d9-bca339543d32"
      },
      "source": [
        "from scipy.optimize import linprog\n",
        "obj = [-50, -110]\n",
        "a_iq = [[1,1],[7000,2000],[10,30]]\n",
        "b_iq = [110,700000,1200]\n",
        "bound =  [(0, float(\"inf\")),(0, float(\"inf\"))]\n",
        "res = linprog(c=obj,A_ub=a_iq,b_ub=b_iq,A_eq=None,b_eq=None,bounds=bound,method=\"Simplex\").x\n",
        "print(\"Area of Wheet : \", res[0], \"\\nArea of Barley : \",res[1],\"\\nTotal profit : \",res[0]*50 + res[1]*120)"
      ],
      "execution_count": 1,
      "outputs": [
        {
          "output_type": "stream",
          "text": [
            "Area of Wheet :  97.89473684210526 \n",
            "Area of Barley :  7.368421052631579 \n",
            "Total profit :  5778.9473684210525\n"
          ],
          "name": "stdout"
        }
      ]
    }
  ]
}