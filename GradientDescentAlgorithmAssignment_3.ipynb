{
  "nbformat": 4,
  "nbformat_minor": 0,
  "metadata": {
    "colab": {
      "name": "GradientDescentAlgorithmAssignment_3.ipynb",
      "provenance": [],
      "authorship_tag": "ABX9TyNdWiLbKB4LFO5KIPx9xTqR",
      "include_colab_link": true
    },
    "kernelspec": {
      "name": "python3",
      "display_name": "Python 3"
    },
    "language_info": {
      "name": "python"
    }
  },
  "cells": [
    {
      "cell_type": "markdown",
      "metadata": {
        "id": "view-in-github",
        "colab_type": "text"
      },
      "source": [
        "<a href=\"https://colab.research.google.com/github/nethaji-achha/AI/blob/main/GradientDescentAlgorithmAssignment_3.ipynb\" target=\"_parent\"><img src=\"https://colab.research.google.com/assets/colab-badge.svg\" alt=\"Open In Colab\"/></a>"
      ]
    },
    {
      "cell_type": "code",
      "metadata": {
        "colab": {
          "base_uri": "https://localhost:8080/"
        },
        "id": "4CU6Xx8wP5lk",
        "outputId": "dc381c44-ab94-4e1f-a6ad-74e24beaf6c9"
      },
      "source": [
        "import numpy as np\n",
        "import math\n",
        "x=np.random.uniform(-10,10)\n",
        "y=np.random.uniform(-10,10)\n",
        "eta=0.001\n",
        "iter_max=1000\n",
        "iter=1\n",
        "while iter<iter_max:\n",
        "  grad_x=6*x\n",
        "  grad_y = -5*(math.exp(-y))\n",
        "  delx = -eta * grad_x\n",
        "  dely = -eta * grad_y\n",
        "  x=x+delx\n",
        "  y=y+dely\n",
        "  iter=iter+1\n",
        "obj =  3*(x*2) + 5*(math.exp(-y)) + 10\n",
        "print(\"objective function has minimum value at \",obj,\" where x = \", round(x), \" and y = \", round(y))"
      ],
      "execution_count": 3,
      "outputs": [
        {
          "output_type": "stream",
          "name": "stdout",
          "text": [
            "objective function has minimum value at  10.028803430827733  where x =  0  and y =  10\n"
          ]
        }
      ]
    }
  ]
}